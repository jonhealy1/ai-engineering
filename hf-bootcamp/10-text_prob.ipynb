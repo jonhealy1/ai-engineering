{
 "cells": [
  {
   "cell_type": "code",
   "execution_count": 1,
   "id": "726003bc-e260-459a-8338-e790905efa86",
   "metadata": {},
   "outputs": [],
   "source": [
    "import torch"
   ]
  },
  {
   "cell_type": "code",
   "execution_count": 2,
   "id": "71c92715-6781-4f57-adbe-bddca3fbe4a1",
   "metadata": {},
   "outputs": [
    {
     "data": {
      "text/plain": [
       "'2.6.0+cu124'"
      ]
     },
     "execution_count": 2,
     "metadata": {},
     "output_type": "execute_result"
    }
   ],
   "source": [
    "torch.__version__"
   ]
  },
  {
   "cell_type": "code",
   "execution_count": 5,
   "id": "a3919f82-8b62-4b01-83d1-783a8234b712",
   "metadata": {},
   "outputs": [],
   "source": [
    "import transformers\n",
    "from transformers import AutoTokenizer"
   ]
  },
  {
   "cell_type": "code",
   "execution_count": 6,
   "id": "e03add53-e1ba-4079-b003-084400247fdc",
   "metadata": {},
   "outputs": [
    {
     "data": {
      "application/vnd.jupyter.widget-view+json": {
       "model_id": "cf7d18406c6a46869d07868fd70fd553",
       "version_major": 2,
       "version_minor": 0
      },
      "text/plain": [
       "tokenizer_config.json:   0%|          | 0.00/26.0 [00:00<?, ?B/s]"
      ]
     },
     "metadata": {},
     "output_type": "display_data"
    },
    {
     "data": {
      "application/vnd.jupyter.widget-view+json": {
       "model_id": "46a659c7e4464bfead9af79d967a4dd5",
       "version_major": 2,
       "version_minor": 0
      },
      "text/plain": [
       "config.json:   0%|          | 0.00/665 [00:00<?, ?B/s]"
      ]
     },
     "metadata": {},
     "output_type": "display_data"
    },
    {
     "data": {
      "application/vnd.jupyter.widget-view+json": {
       "model_id": "2f69ccf8aaa44a638f03a01529450d9e",
       "version_major": 2,
       "version_minor": 0
      },
      "text/plain": [
       "vocab.json:   0%|          | 0.00/1.04M [00:00<?, ?B/s]"
      ]
     },
     "metadata": {},
     "output_type": "display_data"
    },
    {
     "data": {
      "application/vnd.jupyter.widget-view+json": {
       "model_id": "a6a9fc14011e49fe8390078a59efb74a",
       "version_major": 2,
       "version_minor": 0
      },
      "text/plain": [
       "merges.txt:   0%|          | 0.00/456k [00:00<?, ?B/s]"
      ]
     },
     "metadata": {},
     "output_type": "display_data"
    },
    {
     "data": {
      "application/vnd.jupyter.widget-view+json": {
       "model_id": "f6bf263675fe42b4aaaf5f22b193093e",
       "version_major": 2,
       "version_minor": 0
      },
      "text/plain": [
       "tokenizer.json:   0%|          | 0.00/1.36M [00:00<?, ?B/s]"
      ]
     },
     "metadata": {},
     "output_type": "display_data"
    }
   ],
   "source": [
    " tokenizer = AutoTokenizer.from_pretrained(\"gpt2\")"
   ]
  },
  {
   "cell_type": "code",
   "execution_count": 7,
   "id": "49e70d69-7fed-4aa6-9804-38eaa91bff2b",
   "metadata": {},
   "outputs": [],
   "source": [
    "sentence = \"Preposterous, I'm flabbergasted!\""
   ]
  },
  {
   "cell_type": "code",
   "execution_count": 9,
   "id": "731ea983-3228-4316-88f9-2deb0edb4e6e",
   "metadata": {},
   "outputs": [],
   "source": [
    "input_ids = tokenizer(sentence,return_tensors='pt').input_ids"
   ]
  },
  {
   "cell_type": "code",
   "execution_count": 10,
   "id": "9fe7aeec-11f9-4df4-812d-f2c070dff5aa",
   "metadata": {},
   "outputs": [
    {
     "data": {
      "text/plain": [
       "tensor([[37534,  6197,   516,    11,   314,  1101,   781,   397,  3900,  8992,\n",
       "             0]])"
      ]
     },
     "execution_count": 10,
     "metadata": {},
     "output_type": "execute_result"
    }
   ],
   "source": [
    "input_ids"
   ]
  },
  {
   "cell_type": "code",
   "execution_count": 11,
   "id": "3f2cb092-1818-4d01-bc94-cf2d713b1f6c",
   "metadata": {},
   "outputs": [
    {
     "data": {
      "text/plain": [
       "'Prep'"
      ]
     },
     "execution_count": 11,
     "metadata": {},
     "output_type": "execute_result"
    }
   ],
   "source": [
    "tokenizer.decode(37534)"
   ]
  },
  {
   "cell_type": "code",
   "execution_count": 14,
   "id": "193786fa-4fe4-411c-b2a1-dd3e73dc94b0",
   "metadata": {},
   "outputs": [
    {
     "name": "stdout",
     "output_type": "stream",
     "text": [
      "Prep\n",
      "oster\n",
      "ous\n",
      ",\n",
      " I\n",
      "'m\n",
      " fl\n",
      "ab\n",
      "berg\n",
      "asted\n",
      "!\n"
     ]
    }
   ],
   "source": [
    "for token_id in input_ids[0]:\n",
    "    print(tokenizer.decode(token_id))"
   ]
  },
  {
   "cell_type": "code",
   "execution_count": null,
   "id": "e08cdaa4-90a6-4db6-9f00-9bc5dd451b09",
   "metadata": {},
   "outputs": [],
   "source": []
  }
 ],
 "metadata": {
  "kernelspec": {
   "display_name": "Python 3 (ipykernel)",
   "language": "python",
   "name": "python3"
  },
  "language_info": {
   "codemirror_mode": {
    "name": "ipython",
    "version": 3
   },
   "file_extension": ".py",
   "mimetype": "text/x-python",
   "name": "python",
   "nbconvert_exporter": "python",
   "pygments_lexer": "ipython3",
   "version": "3.12.9"
  }
 },
 "nbformat": 4,
 "nbformat_minor": 5
}
