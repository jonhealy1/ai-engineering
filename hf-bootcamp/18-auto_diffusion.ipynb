{
 "cells": [
  {
   "cell_type": "code",
   "execution_count": 4,
   "id": "e1a78d78-629a-4f27-8b69-b707d0b852c4",
   "metadata": {},
   "outputs": [],
   "source": [
    "from diffusers import AutoPipelineForText2Image\n",
    "import torch"
   ]
  },
  {
   "cell_type": "code",
   "execution_count": 5,
   "id": "2f6797db-4ec3-4963-8b9a-fdabcd8d67bd",
   "metadata": {},
   "outputs": [
    {
     "data": {
      "application/vnd.jupyter.widget-view+json": {
       "model_id": "ffba9943caf8447d843930bc92dc5a92",
       "version_major": 2,
       "version_minor": 0
      },
      "text/plain": [
       "Loading pipeline components...:   0%|          | 0/5 [00:00<?, ?it/s]"
      ]
     },
     "metadata": {},
     "output_type": "display_data"
    }
   ],
   "source": [
    "pipeline = AutoPipelineForText2Image.from_pretrained(\"dreamlike-art/dreamlike-photoreal-2.0\",\n",
    "                                                    torch_dtype=torch.float16,use_safetensors=True)"
   ]
  },
  {
   "cell_type": "code",
   "execution_count": 6,
   "id": "b9f16b46-de44-46b9-8c22-583853cea6d2",
   "metadata": {},
   "outputs": [],
   "source": [
    "prompt = 'cinematic photo of big bord in Paris, 35mm photo, film'"
   ]
  },
  {
   "cell_type": "code",
   "execution_count": null,
   "id": "c68a1f74-9ea7-4fbc-9b11-c054d77c6afd",
   "metadata": {},
   "outputs": [],
   "source": [
    "image = pipeline(prompt).images[0] # can take ~40 min on cpu?"
   ]
  }
 ],
 "metadata": {
  "kernelspec": {
   "display_name": "Python 3 (ipykernel)",
   "language": "python",
   "name": "python3"
  },
  "language_info": {
   "codemirror_mode": {
    "name": "ipython",
    "version": 3
   },
   "file_extension": ".py",
   "mimetype": "text/x-python",
   "name": "python",
   "nbconvert_exporter": "python",
   "pygments_lexer": "ipython3",
   "version": "3.12.9"
  }
 },
 "nbformat": 4,
 "nbformat_minor": 5
}
