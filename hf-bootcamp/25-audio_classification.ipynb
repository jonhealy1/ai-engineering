{
 "cells": [
  {
   "cell_type": "code",
   "execution_count": 3,
   "id": "53948fc6-f038-4681-b058-c2cc747f47e0",
   "metadata": {},
   "outputs": [],
   "source": [
    "import torch, torchaudio, transformers"
   ]
  },
  {
   "cell_type": "code",
   "execution_count": 7,
   "id": "8dd18ad6-c0ec-41a4-9295-bfe6ee3887b2",
   "metadata": {},
   "outputs": [],
   "source": [
    "from transformers import AutoFeatureExtractor, ASTForAudioClassification"
   ]
  },
  {
   "cell_type": "code",
   "execution_count": 8,
   "id": "2319362e-a6f1-4370-a68a-823fd6f2904e",
   "metadata": {},
   "outputs": [],
   "source": [
    "import librosa"
   ]
  },
  {
   "cell_type": "code",
   "execution_count": 9,
   "id": "92a935c1-6e68-4071-9ec2-20b36f867860",
   "metadata": {},
   "outputs": [],
   "source": [
    "audio_path = 'example.mp3'"
   ]
  },
  {
   "cell_type": "code",
   "execution_count": 10,
   "id": "f481e7bc-eeca-4bba-a717-e3b48e15c246",
   "metadata": {},
   "outputs": [],
   "source": [
    "y,sr = librosa.load(audio_path,sr=None)"
   ]
  },
  {
   "cell_type": "code",
   "execution_count": 11,
   "id": "92b45beb-82a9-4ec2-849d-b8e9dcbd1bb9",
   "metadata": {},
   "outputs": [
    {
     "data": {
      "text/plain": [
       "48000"
      ]
     },
     "execution_count": 11,
     "metadata": {},
     "output_type": "execute_result"
    }
   ],
   "source": [
    "sr"
   ]
  },
  {
   "cell_type": "code",
   "execution_count": null,
   "id": "46805c22-2452-4442-9882-b3ee56b62bc2",
   "metadata": {},
   "outputs": [],
   "source": []
  }
 ],
 "metadata": {
  "kernelspec": {
   "display_name": "Python 3 (ipykernel)",
   "language": "python",
   "name": "python3"
  },
  "language_info": {
   "codemirror_mode": {
    "name": "ipython",
    "version": 3
   },
   "file_extension": ".py",
   "mimetype": "text/x-python",
   "name": "python",
   "nbconvert_exporter": "python",
   "pygments_lexer": "ipython3",
   "version": "3.12.9"
  }
 },
 "nbformat": 4,
 "nbformat_minor": 5
}
