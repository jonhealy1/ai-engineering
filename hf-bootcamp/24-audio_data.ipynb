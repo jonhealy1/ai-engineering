{
 "cells": [
  {
   "cell_type": "code",
   "execution_count": 1,
   "id": "cc562bf6-7a64-483e-b575-64b72d8a5844",
   "metadata": {},
   "outputs": [],
   "source": [
    "import numpy as np\n",
    "import matplotlib.pyplot as plt\n",
    "import librosa"
   ]
  },
  {
   "cell_type": "code",
   "execution_count": 2,
   "id": "64aab3cc-8b0c-497e-81ba-18d67eb2e074",
   "metadata": {},
   "outputs": [],
   "source": [
    "audio_path = 'example.mp3'"
   ]
  },
  {
   "cell_type": "code",
   "execution_count": 3,
   "id": "f3286108-9799-469b-b730-af934d3b2ad6",
   "metadata": {},
   "outputs": [],
   "source": [
    "y,sr = librosa.load(audio_path,sr=None)"
   ]
  },
  {
   "cell_type": "code",
   "execution_count": 4,
   "id": "2dfa06a0-984b-49d2-82aa-515e03156f37",
   "metadata": {},
   "outputs": [
    {
     "data": {
      "text/plain": [
       "(630031,)"
      ]
     },
     "execution_count": 4,
     "metadata": {},
     "output_type": "execute_result"
    }
   ],
   "source": [
    "y.shape"
   ]
  },
  {
   "cell_type": "code",
   "execution_count": 5,
   "id": "fb680898-e706-42c6-aa28-0f98b6ff5f33",
   "metadata": {},
   "outputs": [
    {
     "data": {
      "text/plain": [
       "48000"
      ]
     },
     "execution_count": 5,
     "metadata": {},
     "output_type": "execute_result"
    }
   ],
   "source": [
    "sr # sampling rate - 48 kHz"
   ]
  },
  {
   "cell_type": "code",
   "execution_count": null,
   "id": "37300324-2644-45e9-946e-40920c2e40ab",
   "metadata": {},
   "outputs": [],
   "source": []
  }
 ],
 "metadata": {
  "kernelspec": {
   "display_name": "Python 3 (ipykernel)",
   "language": "python",
   "name": "python3"
  },
  "language_info": {
   "codemirror_mode": {
    "name": "ipython",
    "version": 3
   },
   "file_extension": ".py",
   "mimetype": "text/x-python",
   "name": "python",
   "nbconvert_exporter": "python",
   "pygments_lexer": "ipython3",
   "version": "3.12.9"
  }
 },
 "nbformat": 4,
 "nbformat_minor": 5
}
