{
 "cells": [
  {
   "cell_type": "code",
   "execution_count": 1,
   "id": "726003bc-e260-459a-8338-e790905efa86",
   "metadata": {},
   "outputs": [],
   "source": [
    "import torch"
   ]
  },
  {
   "cell_type": "code",
   "execution_count": 2,
   "id": "71c92715-6781-4f57-adbe-bddca3fbe4a1",
   "metadata": {},
   "outputs": [
    {
     "data": {
      "text/plain": [
       "'2.6.0+cu124'"
      ]
     },
     "execution_count": 2,
     "metadata": {},
     "output_type": "execute_result"
    }
   ],
   "source": [
    "torch.__version__"
   ]
  },
  {
   "cell_type": "code",
   "execution_count": 5,
   "id": "a3919f82-8b62-4b01-83d1-783a8234b712",
   "metadata": {},
   "outputs": [],
   "source": [
    "import transformers\n",
    "from transformers import AutoTokenizer"
   ]
  },
  {
   "cell_type": "code",
   "execution_count": 6,
   "id": "e03add53-e1ba-4079-b003-084400247fdc",
   "metadata": {},
   "outputs": [
    {
     "data": {
      "application/vnd.jupyter.widget-view+json": {
       "model_id": "cf7d18406c6a46869d07868fd70fd553",
       "version_major": 2,
       "version_minor": 0
      },
      "text/plain": [
       "tokenizer_config.json:   0%|          | 0.00/26.0 [00:00<?, ?B/s]"
      ]
     },
     "metadata": {},
     "output_type": "display_data"
    },
    {
     "data": {
      "application/vnd.jupyter.widget-view+json": {
       "model_id": "46a659c7e4464bfead9af79d967a4dd5",
       "version_major": 2,
       "version_minor": 0
      },
      "text/plain": [
       "config.json:   0%|          | 0.00/665 [00:00<?, ?B/s]"
      ]
     },
     "metadata": {},
     "output_type": "display_data"
    },
    {
     "data": {
      "application/vnd.jupyter.widget-view+json": {
       "model_id": "2f69ccf8aaa44a638f03a01529450d9e",
       "version_major": 2,
       "version_minor": 0
      },
      "text/plain": [
       "vocab.json:   0%|          | 0.00/1.04M [00:00<?, ?B/s]"
      ]
     },
     "metadata": {},
     "output_type": "display_data"
    },
    {
     "data": {
      "application/vnd.jupyter.widget-view+json": {
       "model_id": "a6a9fc14011e49fe8390078a59efb74a",
       "version_major": 2,
       "version_minor": 0
      },
      "text/plain": [
       "merges.txt:   0%|          | 0.00/456k [00:00<?, ?B/s]"
      ]
     },
     "metadata": {},
     "output_type": "display_data"
    },
    {
     "data": {
      "application/vnd.jupyter.widget-view+json": {
       "model_id": "f6bf263675fe42b4aaaf5f22b193093e",
       "version_major": 2,
       "version_minor": 0
      },
      "text/plain": [
       "tokenizer.json:   0%|          | 0.00/1.36M [00:00<?, ?B/s]"
      ]
     },
     "metadata": {},
     "output_type": "display_data"
    }
   ],
   "source": [
    " tokenizer = AutoTokenizer.from_pretrained(\"gpt2\")"
   ]
  },
  {
   "cell_type": "code",
   "execution_count": 36,
   "id": "49e70d69-7fed-4aa6-9804-38eaa91bff2b",
   "metadata": {},
   "outputs": [],
   "source": [
    "sentence = \"I skip across the\""
   ]
  },
  {
   "cell_type": "code",
   "execution_count": 37,
   "id": "731ea983-3228-4316-88f9-2deb0edb4e6e",
   "metadata": {},
   "outputs": [],
   "source": [
    "input_ids = tokenizer(sentence,return_tensors='pt').input_ids"
   ]
  },
  {
   "cell_type": "code",
   "execution_count": 38,
   "id": "9fe7aeec-11f9-4df4-812d-f2c070dff5aa",
   "metadata": {},
   "outputs": [
    {
     "data": {
      "text/plain": [
       "tensor([[   40, 14267,  1973,   262]])"
      ]
     },
     "execution_count": 38,
     "metadata": {},
     "output_type": "execute_result"
    }
   ],
   "source": [
    "input_ids"
   ]
  },
  {
   "cell_type": "code",
   "execution_count": 39,
   "id": "3f2cb092-1818-4d01-bc94-cf2d713b1f6c",
   "metadata": {},
   "outputs": [
    {
     "data": {
      "text/plain": [
       "'Prep'"
      ]
     },
     "execution_count": 39,
     "metadata": {},
     "output_type": "execute_result"
    }
   ],
   "source": [
    "tokenizer.decode(37534)"
   ]
  },
  {
   "cell_type": "code",
   "execution_count": 40,
   "id": "193786fa-4fe4-411c-b2a1-dd3e73dc94b0",
   "metadata": {},
   "outputs": [
    {
     "name": "stdout",
     "output_type": "stream",
     "text": [
      "I\n",
      " skip\n",
      " across\n",
      " the\n"
     ]
    }
   ],
   "source": [
    "for token_id in input_ids[0]:\n",
    "    print(tokenizer.decode(token_id))"
   ]
  },
  {
   "cell_type": "code",
   "execution_count": 41,
   "id": "e08cdaa4-90a6-4db6-9f00-9bc5dd451b09",
   "metadata": {},
   "outputs": [],
   "source": [
    "from transformers import AutoModelForCausalLM"
   ]
  },
  {
   "cell_type": "code",
   "execution_count": 42,
   "id": "4aec7597-35cc-403c-bc02-97c31f521da8",
   "metadata": {},
   "outputs": [],
   "source": [
    "gpt2 = AutoModelForCausalLM.from_pretrained(\"gpt2\")"
   ]
  },
  {
   "cell_type": "code",
   "execution_count": 43,
   "id": "6c8b7fa5-244b-4162-bc7e-b6dcf42b93a1",
   "metadata": {},
   "outputs": [],
   "source": [
    "outputs = gpt2(input_ids)"
   ]
  },
  {
   "cell_type": "code",
   "execution_count": 44,
   "id": "147af285-e16e-4f99-a18e-eb05aa1a405f",
   "metadata": {},
   "outputs": [
    {
     "data": {
      "text/plain": [
       "tensor([[[-39.3084, -39.0100, -41.8374,  ..., -46.9337, -44.9074, -39.5149],\n",
       "         [-78.0579, -78.4766, -82.9907,  ..., -87.3913, -86.9834, -79.6007],\n",
       "         [-73.0664, -74.0119, -78.5556,  ..., -81.0934, -82.5249, -75.8570],\n",
       "         [-87.5486, -86.0567, -88.3320,  ..., -88.2509, -90.5480, -86.1209]]],\n",
       "       grad_fn=<UnsafeViewBackward0>)"
      ]
     },
     "execution_count": 44,
     "metadata": {},
     "output_type": "execute_result"
    }
   ],
   "source": [
    "outputs.logits"
   ]
  },
  {
   "cell_type": "code",
   "execution_count": 45,
   "id": "fe9f090b-f029-42c0-97b9-2e57edfa6f5e",
   "metadata": {},
   "outputs": [],
   "source": [
    "final_logits = gpt2(input_ids).logits[0,-1]"
   ]
  },
  {
   "cell_type": "code",
   "execution_count": 46,
   "id": "d8893d0e-4b5e-4d8f-9f24-70ee1dd45091",
   "metadata": {},
   "outputs": [
    {
     "data": {
      "text/plain": [
       "tensor([-87.5486, -86.0567, -88.3320,  ..., -88.2509, -90.5480, -86.1209],\n",
       "       grad_fn=<SelectBackward0>)"
      ]
     },
     "execution_count": 46,
     "metadata": {},
     "output_type": "execute_result"
    }
   ],
   "source": [
    "final_logits"
   ]
  },
  {
   "cell_type": "code",
   "execution_count": 47,
   "id": "230feee3-77b5-4674-9721-a52977b7619a",
   "metadata": {},
   "outputs": [
    {
     "data": {
      "text/plain": [
       "tensor(1627)"
      ]
     },
     "execution_count": 47,
     "metadata": {},
     "output_type": "execute_result"
    }
   ],
   "source": [
    "final_logits.argmax()"
   ]
  },
  {
   "cell_type": "code",
   "execution_count": 48,
   "id": "d51ad4f1-2d57-4581-b726-d2406fe5ffdc",
   "metadata": {},
   "outputs": [
    {
     "data": {
      "text/plain": [
       "' line'"
      ]
     },
     "execution_count": 48,
     "metadata": {},
     "output_type": "execute_result"
    }
   ],
   "source": [
    "tokenizer.decode(final_logits.argmax())"
   ]
  },
  {
   "cell_type": "code",
   "execution_count": 49,
   "id": "11506b63-2b6e-4b02-bff4-6a926e7d9090",
   "metadata": {},
   "outputs": [],
   "source": [
    "top10_logits = torch.topk(final_logits,10)"
   ]
  },
  {
   "cell_type": "code",
   "execution_count": 50,
   "id": "de007e94-3c06-469a-96b2-491d7582cffb",
   "metadata": {},
   "outputs": [
    {
     "name": "stdout",
     "output_type": "stream",
     "text": [
      " line\n",
      " street\n",
      " river\n",
      " room\n",
      " pond\n",
      " bridge\n",
      " border\n",
      " country\n",
      " road\n",
      " board\n"
     ]
    }
   ],
   "source": [
    "for index in top10_logits.indices:\n",
    "    print(tokenizer.decode(index))"
   ]
  },
  {
   "cell_type": "code",
   "execution_count": 56,
   "id": "aa29339a-b615-46db-98bc-198f773dc259",
   "metadata": {},
   "outputs": [
    {
     "data": {
      "text/plain": [
       "tensor([5.5733e-07, 2.4777e-06, 2.5463e-07,  ..., 2.7615e-07, 2.7765e-08,\n",
       "        2.3236e-06], grad_fn=<SoftmaxBackward0>)"
      ]
     },
     "execution_count": 56,
     "metadata": {},
     "output_type": "execute_result"
    }
   ],
   "source": [
    "final_logits.softmax(dim=0)"
   ]
  },
  {
   "cell_type": "code",
   "execution_count": 57,
   "id": "04cad9b8-c85e-4232-8fb1-f9effe2febc7",
   "metadata": {},
   "outputs": [],
   "source": [
    "top10 = torch.topk(final_logits.softmax(dim=0),10)"
   ]
  },
  {
   "cell_type": "code",
   "execution_count": 58,
   "id": "33a1ad28-cc96-4d44-b976-e534b596e8f3",
   "metadata": {},
   "outputs": [
    {
     "data": {
      "text/plain": [
       "torch.return_types.topk(\n",
       "values=tensor([0.0361, 0.0269, 0.0222, 0.0188, 0.0183, 0.0173, 0.0168, 0.0166, 0.0160,\n",
       "        0.0094], grad_fn=<TopkBackward0>),\n",
       "indices=tensor([ 1627,  4675,  7850,  2119, 16723,  7696,  4865,  1499,  2975,  3096]))"
      ]
     },
     "execution_count": 58,
     "metadata": {},
     "output_type": "execute_result"
    }
   ],
   "source": [
    "top10"
   ]
  },
  {
   "cell_type": "code",
   "execution_count": 60,
   "id": "c329a14d-adb9-4b7f-8fa0-de76d80aa184",
   "metadata": {},
   "outputs": [
    {
     "name": "stdout",
     "output_type": "stream",
     "text": [
      " line -- 3.6%\n",
      " street -- 2.7%\n",
      " river -- 2.2%\n",
      " room -- 1.9%\n",
      " pond -- 1.8%\n",
      " bridge -- 1.7%\n",
      " border -- 1.7%\n",
      " country -- 1.7%\n",
      " road -- 1.6%\n",
      " board -- 0.9%\n"
     ]
    }
   ],
   "source": [
    "for value, index in zip(top10.values, top10.indices):\n",
    "    print(f\"{tokenizer.decode(index)} -- {value.item():.1%}\")"
   ]
  },
  {
   "cell_type": "code",
   "execution_count": 64,
   "id": "19435a5b-8567-4247-9daa-c812efa17ead",
   "metadata": {},
   "outputs": [
    {
     "name": "stderr",
     "output_type": "stream",
     "text": [
      "The attention mask and the pad token id were not set. As a consequence, you may observe unexpected behavior. Please pass your input's `attention_mask` to obtain reliable results.\n",
      "Setting `pad_token_id` to `eos_token_id`:50256 for open-end generation.\n"
     ]
    }
   ],
   "source": [
    "output_ids = gpt2.generate(input_ids,max_new_tokens=20, repetition_penalty=1.5)"
   ]
  },
  {
   "cell_type": "code",
   "execution_count": 65,
   "id": "c6e786ce-be70-49ec-9526-fa69ea802196",
   "metadata": {},
   "outputs": [],
   "source": [
    "decoded_text = tokenizer.decode(output_ids[0])"
   ]
  },
  {
   "cell_type": "code",
   "execution_count": 67,
   "id": "32d8a0e1-941e-4ac2-9ca0-a54d867494de",
   "metadata": {},
   "outputs": [
    {
     "name": "stdout",
     "output_type": "stream",
     "text": [
      "I skip across the line to a place where I can see it.\n",
      "\n",
      "The next time you're in town,\n"
     ]
    }
   ],
   "source": [
    "print(decoded_text)"
   ]
  },
  {
   "cell_type": "code",
   "execution_count": 69,
   "id": "cad1669f-c238-4498-952e-818c73ccd61a",
   "metadata": {},
   "outputs": [
    {
     "name": "stderr",
     "output_type": "stream",
     "text": [
      "The attention mask and the pad token id were not set. As a consequence, you may observe unexpected behavior. Please pass your input's `attention_mask` to obtain reliable results.\n",
      "Setting `pad_token_id` to `eos_token_id`:50256 for open-end generation.\n"
     ]
    },
    {
     "name": "stdout",
     "output_type": "stream",
     "text": [
      "I skip across the line.\n",
      "\n",
      "I don't know why.\n",
      "\n",
      "I think I'm not the first person\n"
     ]
    }
   ],
   "source": [
    "output_ids = gpt2.generate(input_ids,max_new_tokens=20, do_sample=True, top_k=5)\n",
    "decoded_text = tokenizer.decode(output_ids[0])\n",
    "print(decoded_text)"
   ]
  },
  {
   "cell_type": "code",
   "execution_count": 74,
   "id": "a9e36026-8f8b-4a85-913f-abba3896fa6f",
   "metadata": {},
   "outputs": [
    {
     "name": "stderr",
     "output_type": "stream",
     "text": [
      "The attention mask and the pad token id were not set. As a consequence, you may observe unexpected behavior. Please pass your input's `attention_mask` to obtain reliable results.\n",
      "Setting `pad_token_id` to `eos_token_id`:50256 for open-end generation.\n"
     ]
    },
    {
     "name": "stdout",
     "output_type": "stream",
     "text": [
      "I skip across the map when you make your way through the forest in the way that I can, and if you just\n"
     ]
    }
   ],
   "source": [
    "output_ids = gpt2.generate(input_ids,max_new_tokens=20, do_sample=True, temperature=1.0)\n",
    "decoded_text = tokenizer.decode(output_ids[0])\n",
    "print(decoded_text)"
   ]
  },
  {
   "cell_type": "code",
   "execution_count": 76,
   "id": "1eb80ea0-f16f-4128-af8e-cc57515747fe",
   "metadata": {},
   "outputs": [],
   "source": [
    "from transformers import pipeline"
   ]
  },
  {
   "cell_type": "code",
   "execution_count": 77,
   "id": "3f4190f9-0c7c-4cb0-8b5f-e95a3c669d7b",
   "metadata": {},
   "outputs": [
    {
     "data": {
      "application/vnd.jupyter.widget-view+json": {
       "model_id": "c8055a9a08df42e58d6849d4afe44545",
       "version_major": 2,
       "version_minor": 0
      },
      "text/plain": [
       "config.json:   0%|          | 0.00/665 [00:00<?, ?B/s]"
      ]
     },
     "metadata": {},
     "output_type": "display_data"
    },
    {
     "data": {
      "application/vnd.jupyter.widget-view+json": {
       "model_id": "afcc96cfb6604a73a90fff263cbba7fb",
       "version_major": 2,
       "version_minor": 0
      },
      "text/plain": [
       "model.safetensors:   0%|          | 0.00/548M [00:00<?, ?B/s]"
      ]
     },
     "metadata": {},
     "output_type": "display_data"
    },
    {
     "data": {
      "application/vnd.jupyter.widget-view+json": {
       "model_id": "152e26104ec84ffcabd6462bd5efa670",
       "version_major": 2,
       "version_minor": 0
      },
      "text/plain": [
       "generation_config.json:   0%|          | 0.00/124 [00:00<?, ?B/s]"
      ]
     },
     "metadata": {},
     "output_type": "display_data"
    },
    {
     "data": {
      "application/vnd.jupyter.widget-view+json": {
       "model_id": "83e9bfaa014747c9b9902b8e52b25d21",
       "version_major": 2,
       "version_minor": 0
      },
      "text/plain": [
       "tokenizer_config.json:   0%|          | 0.00/26.0 [00:00<?, ?B/s]"
      ]
     },
     "metadata": {},
     "output_type": "display_data"
    },
    {
     "data": {
      "application/vnd.jupyter.widget-view+json": {
       "model_id": "a97f4c483f58472ca97c0ef29fdcd708",
       "version_major": 2,
       "version_minor": 0
      },
      "text/plain": [
       "vocab.json:   0%|          | 0.00/1.04M [00:00<?, ?B/s]"
      ]
     },
     "metadata": {},
     "output_type": "display_data"
    },
    {
     "data": {
      "application/vnd.jupyter.widget-view+json": {
       "model_id": "e53c55231cf7469ea6b57755ec387977",
       "version_major": 2,
       "version_minor": 0
      },
      "text/plain": [
       "merges.txt:   0%|          | 0.00/456k [00:00<?, ?B/s]"
      ]
     },
     "metadata": {},
     "output_type": "display_data"
    },
    {
     "data": {
      "application/vnd.jupyter.widget-view+json": {
       "model_id": "38583a6c636b476db26fd9cd77bb5747",
       "version_major": 2,
       "version_minor": 0
      },
      "text/plain": [
       "tokenizer.json:   0%|          | 0.00/1.36M [00:00<?, ?B/s]"
      ]
     },
     "metadata": {},
     "output_type": "display_data"
    },
    {
     "name": "stderr",
     "output_type": "stream",
     "text": [
      "Device set to use cpu\n"
     ]
    }
   ],
   "source": [
    "pipe = pipeline(\"text-generation\", model=\"openai-community/gpt2\")"
   ]
  },
  {
   "cell_type": "code",
   "execution_count": 78,
   "id": "2791dd04-04fb-4107-bfaa-837997b6dd7f",
   "metadata": {},
   "outputs": [
    {
     "name": "stderr",
     "output_type": "stream",
     "text": [
      "Setting `pad_token_id` to `eos_token_id`:50256 for open-end generation.\n"
     ]
    },
    {
     "data": {
      "text/plain": [
       "[{'generated_text': 'I went to the store and bought a pack and my husband was happy to walk me out. As for the customer service, I am very impressed to understand why so many people would prefer not to take their cards. It is the simplest way to get'}]"
      ]
     },
     "execution_count": 78,
     "metadata": {},
     "output_type": "execute_result"
    }
   ],
   "source": [
    "pipe(\"I went to the store and bought a\")"
   ]
  },
  {
   "cell_type": "code",
   "execution_count": null,
   "id": "c121dc1e-88a7-4af5-9217-fd82982d2e66",
   "metadata": {},
   "outputs": [],
   "source": []
  },
  {
   "cell_type": "code",
   "execution_count": null,
   "id": "20561ca6-92ce-4b33-94d0-4d066baef160",
   "metadata": {},
   "outputs": [],
   "source": []
  }
 ],
 "metadata": {
  "kernelspec": {
   "display_name": "Python 3 (ipykernel)",
   "language": "python",
   "name": "python3"
  },
  "language_info": {
   "codemirror_mode": {
    "name": "ipython",
    "version": 3
   },
   "file_extension": ".py",
   "mimetype": "text/x-python",
   "name": "python",
   "nbconvert_exporter": "python",
   "pygments_lexer": "ipython3",
   "version": "3.12.9"
  }
 },
 "nbformat": 4,
 "nbformat_minor": 5
}
