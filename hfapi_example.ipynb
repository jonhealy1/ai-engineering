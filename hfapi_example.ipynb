{
 "cells": [
  {
   "cell_type": "markdown",
   "id": "4abbedbe-37bb-48a6-936d-7c804dd10881",
   "metadata": {},
   "source": [
    "### Sentiment Analysis"
   ]
  },
  {
   "cell_type": "code",
   "execution_count": 1,
   "id": "cc5872c0-247f-4ddb-88b7-73a129156567",
   "metadata": {},
   "outputs": [
    {
     "data": {
      "text/plain": [
       "[[{'label': 'positive', 'score': 0.9836677312850952},\n",
       "  {'label': 'neutral', 'score': 0.01135887298732996},\n",
       "  {'label': 'negative', 'score': 0.004973393864929676}]]"
      ]
     },
     "execution_count": 1,
     "metadata": {},
     "output_type": "execute_result"
    }
   ],
   "source": [
    "import requests\n",
    "from dotenv import load_dotenv\n",
    "import os\n",
    "\n",
    "load_dotenv()\n",
    "\n",
    "hf_token = os.getenv('HF_TOKEN')\n",
    "hf_auth = \"Bearer \" + hf_token\n",
    "\n",
    "model = \"cardiffnlp/twitter-roberta-base-sentiment-latest\"\n",
    "\n",
    "API_URL = f\"https://api-inference.huggingface.co/models/{model}\"\n",
    "headers = {\"Authorization\": hf_auth}\n",
    "payload = {\n",
    "    \"inputs\": \"Today is a great day\",\n",
    "}\n",
    "\n",
    "response = requests.post(API_URL, headers=headers, json=payload)\n",
    "response.json()"
   ]
  },
  {
   "cell_type": "code",
   "execution_count": 3,
   "id": "fe170e8c-24f3-413d-8cde-845cac404114",
   "metadata": {},
   "outputs": [
    {
     "data": {
      "text/plain": [
       "[TextClassificationOutputElement(label='positive', score=0.9836677312850952),\n",
       " TextClassificationOutputElement(label='neutral', score=0.01135887298732996),\n",
       " TextClassificationOutputElement(label='negative', score=0.004973393864929676)]"
      ]
     },
     "execution_count": 3,
     "metadata": {},
     "output_type": "execute_result"
    }
   ],
   "source": [
    "from huggingface_hub import InferenceClient\n",
    "\n",
    "client = InferenceClient(\n",
    "    model,\n",
    "    token=hf_token,\n",
    ")\n",
    "\n",
    "client.text_classification(\"Today is a great day\")"
   ]
  },
  {
   "cell_type": "markdown",
   "id": "d27aea0a-736a-4427-b269-2629a056c541",
   "metadata": {},
   "source": [
    "### gpt 2 response"
   ]
  },
  {
   "cell_type": "code",
   "execution_count": 11,
   "id": "e0c76f99-a4bb-40ab-b455-e5cb8661b25c",
   "metadata": {},
   "outputs": [
    {
     "name": "stdout",
     "output_type": "stream",
     "text": [
      "[{'generated_text': 'Once upon a time in LA, I must have cried a little bit. Our favorites were Lahart Taeya, who survived just after her divine verdict and what followed, and Joseph Kolokia, struggling with depression and being given up on starting a factory. She was smart, caring, innovative, and brave.\\n\\nAnd for us, he was not different. For a long time throughout his life, he took good care of things. Never brave, always sound, always off-putting. He joined the Navy many times, and went into Wall Street at one point accompanied by Randy Carlson, a smart business friend and female partner in the kind service to which I refer. We became pals and we went to compete together. It was definitely on the flip side of growth, ever since we were little. I remember going back to our car when he didn\\'t return. He would say, \"Hey, I need someone to step in here.\"\\n\\nOld time vs new time are a reflection of volunteerism and the civic responsibility that comes along with winning your city around the world without our having to squander our freedom. It\\'s also something you want to tell people to take into consideration, and it\\'s something you want to happen. Lifelong friendships and dollars are always more than payments to cause things like this. I know it rains dab at New Year\\'s celebrations and I\\'m glad that tourists keep making such a big deal about Houston. One of my favorite SolidGoldMagikarp jokes was this:\\n\\nDo you ever feel, like, at all of this, that the people here, to fine tune that sense of knowing you\\'re enthusiastic, people who enjoy Tiffany\\'s and Wall Street doesn\\'t want to hear the Chandler brothers talking about getting their little business off the ground—or his business off the ground, much less what Chandler is doing, without telling him what to do, without fixing the funny, somewhat watchful bastard best friend he used to hang out with.\\n\\nIt\\'s the story of Westlake\\'s landing, as well as Kelly Bybee\\'s departure, that\\'s deeply revealing. And as for the possibilities beyond even the beauty of the 12th St. this has been engulfed by.\\n\\nEspañol\\n\\nI understand why ITW would say \"Papa\" instead of \"Habibundies;\" they just don\\'t convey personal perfection either. But then over them all, because I have no regrets, absolutely no regrets whatsoever, and actually love the fitters that matter more than anything else in life.\\n\\nIn short, it\\'s otherwise fabulous to be able to relate to my community. Like, not just for, you know, Houston\\'s rich and long-time residents; to the tragic and sensitive young problem-solving everyone in the room in the end. I know that there\\'s huge work, I know that can mess things up, work to get us back into the ways scientists and specialists once were. But even if, inevitably, Houston were to go out of business forever, I have of daydreams and visions to personally raise some people in this great city, not just in nonprofit capitalism, but in a different-minded arena. The job is secured. Johns Hopkins University name that definitions, and UNE-1 dogs at all. Some people will say that it needs to get off that platform.\\n\\nThe most important thing these days is endangerment. You know what makes Houston culture run shouldered and entranced for time and almost as soon as you get outside a hospital, it becomes Instagram, becomes Jones Hall, triggers psychology. I don\\'t mean the libraries you could not have built beforehand. And personally, I resent that tonight we\\'t probably see an airport in the current 1 years, for that reason alone. We don\\'t live in a century. We live in a something and what we here here really mean is continuity, and we see it [always] behind city attempts at mobility in a line that needs temporary hub this bye week, where we are, what\\'s at stake if Founders fail somewhere else.\\n\\nDowntown is out of control with all those earth-shaking things, with several thousand local residents, not just Midtown and along the way. So society, for what it\\'s worth, is oblivious to all those changes. We\\'ve been taking up irrigation. It\\'s sort of forgotten. We now have sovereignty to design buildings that have as much value as we want to build them in this direction [of the city]. Or it\\'s very sad, because our place is at stake when we put our plan into motion. It\\'s at stake in a way that Houstonans can do so much better.\\n\\nAnd that trauma is unexplainable to fighter pilots. Because the issues you face now, the great news is that this is a fight that our pilots and real people will want to see changed next time around, because suddenly the United States is within a foot of setting a record of working without many of these ideas affected by Hurricane Katrina and others like them, prompting all our crewmembers'}]\n",
      "[{'generated_text': 'Once upon a time in LA, I must have cried a little bit. Our favorites were Lahart Taeya, who survived just after her divine verdict and what followed, and Joseph Kolokia, struggling with depression and being given up on starting a factory. She was smart, caring, innovative, and brave.\\n\\nAnd for us, he was not different. For a long time throughout his life, he took good care of things. Never brave, always sound, always off-putting. He joined the Navy many times, and went into Wall Street at one point accompanied by Randy Carlson, a smart business friend and female partner in the kind service to which I refer. We became pals and we went to compete together. It was definitely on the flip side of growth, ever since we were little. I remember going back to our car when he didn\\'t return. He would say, \"Hey, I need someone to step in here.\"\\n\\nOld time vs new time are a reflection of volunteerism and the civic responsibility that comes along with winning your city around the world without our having to squander our freedom. It\\'s also something you want to tell people to take into consideration, and it\\'s something you want to happen. Lifelong friendships and dollars are always more than payments to cause things like this. I know it rains dab at New Year\\'s celebrations and I\\'m glad that tourists keep making such a big deal about Houston. One of my favorite SolidGoldMagikarp jokes was this:\\n\\nDo you ever feel, like, at all of this, that the people here, to fine tune that sense of knowing you\\'re enthusiastic, people who enjoy Tiffany\\'s and Wall Street doesn\\'t want to hear the Chandler brothers talking about getting their little business off the ground—or his business off the ground, much less what Chandler is doing, without telling him what to do, without fixing the funny, somewhat watchful bastard best friend he used to hang out with.\\n\\nIt\\'s the story of Westlake\\'s landing, as well as Kelly Bybee\\'s departure, that\\'s deeply revealing. And as for the possibilities beyond even the beauty of the 12th St. this has been engulfed by.\\n\\nEspañol\\n\\nI understand why ITW would say \"Papa\" instead of \"Habibundies;\" they just don\\'t convey personal perfection either. But then over them all, because I have no regrets, absolutely no regrets whatsoever, and actually love the fitters that matter more than anything else in life.\\n\\nIn short, it\\'s otherwise fabulous to be able to relate to my community. Like, not just for, you know, Houston\\'s rich and long-time residents; to the tragic and sensitive young problem-solving everyone in the room in the end. I know that there\\'s huge work, I know that can mess things up, work to get us back into the ways scientists and specialists once were. But even if, inevitably, Houston were to go out of business forever, I have of daydreams and visions to personally raise some people in this great city, not just in nonprofit capitalism, but in a different-minded arena. The job is secured. Johns Hopkins University name that definitions, and UNE-1 dogs at all. Some people will say that it needs to get off that platform.\\n\\nThe most important thing these days is endangerment. You know what makes Houston culture run shouldered and entranced for time and almost as soon as you get outside a hospital, it becomes Instagram, becomes Jones Hall, triggers psychology. I don\\'t mean the libraries you could not have built beforehand. And personally, I resent that tonight we\\'t probably see an airport in the current 1 years, for that reason alone. We don\\'t live in a century. We live in a something and what we here here really mean is continuity, and we see it [always] behind city attempts at mobility in a line that needs temporary hub this bye week, where we are, what\\'s at stake if Founders fail somewhere else.\\n\\nDowntown is out of control with all those earth-shaking things, with several thousand local residents, not just Midtown and along the way. So society, for what it\\'s worth, is oblivious to all those changes. We\\'ve been taking up irrigation. It\\'s sort of forgotten. We now have sovereignty to design buildings that have as much value as we want to build them in this direction [of the city]. Or it\\'s very sad, because our place is at stake when we put our plan into motion. It\\'s at stake in a way that Houstonans can do so much better.\\n\\nAnd that trauma is unexplainable to fighter pilots. Because the issues you face now, the great news is that this is a fight that our pilots and real people will want to see changed next time around, because suddenly the United States is within a foot of setting a record of working without many of these ideas affected by Hurricane Katrina and others like them, prompting all our crewmembers'}]\n",
      "Once upon a time in LA, I must have cried a little bit. Our favorites were Lahart Taeya, who survived just after her divine verdict and what followed, and Joseph Kolokia, struggling with depression and being given up on starting a factory. She was smart, caring, innovative, and brave.\n",
      "\n",
      "And for us, he was not different. For a long time throughout his life, he took good care of things. Never brave, always sound, always off-putting. He joined the Navy many times, and went into Wall Street at one point accompanied by Randy Carlson, a smart business friend and female partner in the kind service to which I refer. We became pals and we went to compete together. It was definitely on the flip side of growth, ever since we were little. I remember going back to our car when he didn't return. He would say, \"Hey, I need someone to step in here.\"\n",
      "\n",
      "Old time vs new time are a reflection of volunteerism and the civic responsibility that comes along with winning your city around the world without our having to squander our freedom. It's also something you want to tell people to take into consideration, and it's something you want to happen. Lifelong friendships and dollars are always more than payments to cause things like this. I know it rains dab at New Year's celebrations and I'm glad that tourists keep making such a big deal about Houston. One of my favorite SolidGoldMagikarp jokes was this:\n",
      "\n",
      "Do you ever feel, like, at all of this, that the people here, to fine tune that sense of knowing you're enthusiastic, people who enjoy Tiffany's and Wall Street doesn't want to hear the Chandler brothers talking about getting their little business off the ground—or his business off the ground, much less what Chandler is doing, without telling him what to do, without fixing the funny, somewhat watchful bastard best friend he used to hang out with.\n",
      "\n",
      "It's the story of Westlake's landing, as well as Kelly Bybee's departure, that's deeply revealing. And as for the possibilities beyond even the beauty of the 12th St. this has been engulfed by.\n",
      "\n",
      "Español\n",
      "\n",
      "I understand why ITW would say \"Papa\" instead of \"Habibundies;\" they just don't convey personal perfection either. But then over them all, because I have no regrets, absolutely no regrets whatsoever, and actually love the fitters that matter more than anything else in life.\n",
      "\n",
      "In short, it's otherwise fabulous to be able to relate to my community. Like, not just for, you know, Houston's rich and long-time residents; to the tragic and sensitive young problem-solving everyone in the room in the end. I know that there's huge work, I know that can mess things up, work to get us back into the ways scientists and specialists once were. But even if, inevitably, Houston were to go out of business forever, I have of daydreams and visions to personally raise some people in this great city, not just in nonprofit capitalism, but in a different-minded arena. The job is secured. Johns Hopkins University name that definitions, and UNE-1 dogs at all. Some people will say that it needs to get off that platform.\n",
      "\n",
      "The most important thing these days is endangerment. You know what makes Houston culture run shouldered and entranced for time and almost as soon as you get outside a hospital, it becomes Instagram, becomes Jones Hall, triggers psychology. I don't mean the libraries you could not have built beforehand. And personally, I resent that tonight we't probably see an airport in the current 1 years, for that reason alone. We don't live in a century. We live in a something and what we here here really mean is continuity, and we see it [always] behind city attempts at mobility in a line that needs temporary hub this bye week, where we are, what's at stake if Founders fail somewhere else.\n",
      "\n",
      "Downtown is out of control with all those earth-shaking things, with several thousand local residents, not just Midtown and along the way. So society, for what it's worth, is oblivious to all those changes. We've been taking up irrigation. It's sort of forgotten. We now have sovereignty to design buildings that have as much value as we want to build them in this direction [of the city]. Or it's very sad, because our place is at stake when we put our plan into motion. It's at stake in a way that Houstonans can do so much better.\n",
      "\n",
      "And that trauma is unexplainable to fighter pilots. Because the issues you face now, the great news is that this is a fight that our pilots and real people will want to see changed next time around, because suddenly the United States is within a foot of setting a record of working without many of these ideas affected by Hurricane Katrina and others like them, prompting all our crewmembers\n"
     ]
    }
   ],
   "source": [
    "API_URL = \"https://api-inference.huggingface.co/models/gpt2\"\n",
    "headers = {\"Authorization\": hf_auth}  # Replace with your valid token\n",
    "\n",
    "# Define the query function to send a request to the Hugging Face API\n",
    "def query(payload):\n",
    "    response = requests.post(API_URL, headers=headers, json=payload)\n",
    "    return response.json()\n",
    "\n",
    "# Define the text generation function using the query function\n",
    "def generate_text(prompt):\n",
    "    response = query({\"inputs\": prompt})\n",
    "    \n",
    "    # Print the raw response to inspect its structure\n",
    "    print(response)\n",
    "    \n",
    "    # Safely access the response, handling errors\n",
    "    if isinstance(response, list) and len(response) > 0:\n",
    "        print(response)\n",
    "        return response[0].get('generated_text', \"No text generated.\")\n",
    "    else:\n",
    "        return \"Error: Unable to generate text.\"\n",
    "\n",
    "# Provide a text prompt\n",
    "prompt = \"Once upon a time in LA\"\n",
    "print(generate_text(prompt))"
   ]
  },
  {
   "cell_type": "markdown",
   "id": "049e9801-7132-4b18-9bf3-7225a14f0ecf",
   "metadata": {},
   "source": [
    "### Named Entity Recognition (NER) with BERT "
   ]
  },
  {
   "cell_type": "code",
   "execution_count": 13,
   "id": "459df9bd",
   "metadata": {},
   "outputs": [
    {
     "name": "stdout",
     "output_type": "stream",
     "text": [
      "[{'entity_group': 'ORG', 'score': 0.9958662986755371, 'word': 'Hugging Face Inc', 'start': 0, 'end': 16}, {'entity_group': 'LOC', 'score': 0.9992396235466003, 'word': 'New York City', 'start': 30, 'end': 43}]\n"
     ]
    }
   ],
   "source": [
    "import time\n",
    "import requests\n",
    "\n",
    "API_URL = \"https://api-inference.huggingface.co/models/dbmdz/bert-large-cased-finetuned-conll03-english\"\n",
    "headers = {\"Authorization\": hf_auth}  # Replace YOUR_API_KEY with your actual key\n",
    "\n",
    "def query(payload):\n",
    "    response = requests.post(API_URL, headers=headers, json=payload)\n",
    "    return response.json()\n",
    "\n",
    "def ner(text):\n",
    "    while True:\n",
    "        response = query({\"inputs\": text})\n",
    "        if 'error' in response and 'loading' in response['error']:\n",
    "            print(response['error'])\n",
    "            time.sleep(10)  # Wait for 10 seconds before retrying\n",
    "        else:\n",
    "            return response\n",
    "\n",
    "text = \"Hugging Face Inc. is based in New York City.\"\n",
    "print(ner(text))"
   ]
  },
  {
   "cell_type": "code",
   "execution_count": null,
   "id": "eff16833-4779-41e2-a78c-b07735308075",
   "metadata": {},
   "outputs": [],
   "source": []
  }
 ],
 "metadata": {
  "kernelspec": {
   "display_name": "Python 3 (ipykernel)",
   "language": "python",
   "name": "python3"
  },
  "language_info": {
   "codemirror_mode": {
    "name": "ipython",
    "version": 3
   },
   "file_extension": ".py",
   "mimetype": "text/x-python",
   "name": "python",
   "nbconvert_exporter": "python",
   "pygments_lexer": "ipython3",
   "version": "3.11.11"
  }
 },
 "nbformat": 4,
 "nbformat_minor": 5
}
