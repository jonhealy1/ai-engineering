{
 "cells": [
  {
   "cell_type": "code",
   "execution_count": 1,
   "id": "cc5872c0-247f-4ddb-88b7-73a129156567",
   "metadata": {},
   "outputs": [
    {
     "data": {
      "text/plain": [
       "[[{'label': 'positive', 'score': 0.9836677312850952},\n",
       "  {'label': 'neutral', 'score': 0.01135887298732996},\n",
       "  {'label': 'negative', 'score': 0.004973393864929676}]]"
      ]
     },
     "execution_count": 1,
     "metadata": {},
     "output_type": "execute_result"
    }
   ],
   "source": [
    "import requests\n",
    "from dotenv import load_dotenv\n",
    "import os\n",
    "\n",
    "load_dotenv()\n",
    "\n",
    "hf_token = os.getenv('HF_TOKEN')\n",
    "hf_auth = \"Bearer \" + hf_token\n",
    "\n",
    "API_URL = \"https://api-inference.huggingface.co/models/cardiffnlp/twitter-roberta-base-sentiment-latest\"\n",
    "headers = {\"Authorization\": hf_auth}\n",
    "payload = {\n",
    "    \"inputs\": \"Today is a great day\",\n",
    "}\n",
    "\n",
    "response = requests.post(API_URL, headers=headers, json=payload)\n",
    "response.json()"
   ]
  },
  {
   "cell_type": "code",
   "execution_count": 2,
   "id": "fe170e8c-24f3-413d-8cde-845cac404114",
   "metadata": {},
   "outputs": [
    {
     "name": "stderr",
     "output_type": "stream",
     "text": [
      "/home/user/anaconda3/envs/ai_env/lib/python3.11/site-packages/tqdm/auto.py:21: TqdmWarning: IProgress not found. Please update jupyter and ipywidgets. See https://ipywidgets.readthedocs.io/en/stable/user_install.html\n",
      "  from .autonotebook import tqdm as notebook_tqdm\n"
     ]
    },
    {
     "data": {
      "text/plain": [
       "[TextClassificationOutputElement(label='positive', score=0.9836677312850952),\n",
       " TextClassificationOutputElement(label='neutral', score=0.01135887298732996),\n",
       " TextClassificationOutputElement(label='negative', score=0.004973393864929676)]"
      ]
     },
     "execution_count": 2,
     "metadata": {},
     "output_type": "execute_result"
    }
   ],
   "source": [
    "from huggingface_hub import InferenceClient\n",
    "\n",
    "client = InferenceClient(\n",
    "    \"cardiffnlp/twitter-roberta-base-sentiment-latest\",\n",
    "    token=hf_token,\n",
    ")\n",
    "\n",
    "client.text_classification(\"Today is a great day\")"
   ]
  },
  {
   "cell_type": "code",
   "execution_count": null,
   "id": "e0c76f99-a4bb-40ab-b455-e5cb8661b25c",
   "metadata": {},
   "outputs": [],
   "source": []
  }
 ],
 "metadata": {
  "kernelspec": {
   "display_name": "Python 3 (ipykernel)",
   "language": "python",
   "name": "python3"
  },
  "language_info": {
   "codemirror_mode": {
    "name": "ipython",
    "version": 3
   },
   "file_extension": ".py",
   "mimetype": "text/x-python",
   "name": "python",
   "nbconvert_exporter": "python",
   "pygments_lexer": "ipython3",
   "version": "3.11.11"
  }
 },
 "nbformat": 4,
 "nbformat_minor": 5
}
